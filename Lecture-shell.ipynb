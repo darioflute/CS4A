{
 "cells": [
  {
   "cell_type": "markdown",
   "metadata": {},
   "source": [
    "# Lecture 1\n",
    "\n",
    "\n",
    "# Software required\n",
    "\n",
    "This is the list of software you should have installed on your computer to follow the classes:\n",
    "\n",
    "- Python (anaconda distribution)\n",
    "- git\n",
    "- bash\n",
    "\n",
    "Part of the course will be explaining the basics of UNIX using the bash shell.\n",
    "For this reason, I will support only Linux and OS-X operative systems.\n",
    "\n",
    "You will also need to open an account on github to use the git software to \n",
    "preserve remotely your codes.\n",
    "\n",
    "Github - http://www.github.com\n",
    "\n",
    "\n",
    "To install Python, you can simply get the installation bash script installer on:\n",
    "\n",
    "https://www.continuum.io/downloads\n",
    "\n",
    "Please, retrieve the Python 2.7 version since we will study an important package\n",
    "which is not yet ported on Python 3.\n",
    "You can run this script on your computer to install the anaconda distribution in\n",
    "your home directory.\n",
    "\n",
    "After installation a line is added by the installer to your ~/.bashrc file\n",
    "to add the anaconda/bin to your PATH.\n",
    "\n",
    "Once installed, we will learn how to use the \"conda\" command to import new packages,\n",
    "upgrade them, and finally build your own packages.\n",
    "\n",
    "\n",
    "To install git on your computer you will use a different way depending if you have\n",
    "a Linux or a OS-X based computer.\n",
    "\n",
    "Typically on Linux it is sufficient to install it with:\n",
    "\n",
    "sudo apt-get install git\n",
    "\n",
    "In this case you need to be root to install the code.\n",
    "On Mac OS-X, you can use macports.\n",
    "\n",
    "\n",
    "\n",
    "\n",
    "\n",
    "\n",
    "\n"
   ]
  },
  {
   "cell_type": "markdown",
   "metadata": {},
   "source": [
    "## Installing packages with conda\n",
    "\n",
    "Once downloaded and installed anaconda Python, it is time to use the package manager **conda** to check, upgrade, install, remove, etc. packages.\n",
    "\n",
    "We can start by upgrading the same conda.\n",
    "\n",
    "*conda update conda*\n",
    "\n",
    "We will have to install several new packages, for instance:\n",
    "\n",
    "*conda install astropy*\n",
    "\n",
    "If we cannot find a certain package, we can search conda for it:\n",
    "\n",
    "*anaconda search -t conda lmfit*\n",
    "\n",
    "Sometimes, a package is not available directly, but through a channel.\n",
    "This is the case of lmfit which can be found also in astropy channel.\n",
    "To install it, we have to do:\n",
    "\n",
    "*conda install -c astropy lmfit*\n",
    "\n",
    "Another small package we will use is: version_information:\n",
    "\n",
    "*conda install -c pydy version_information*\n",
    "\n",
    "This allows to mark the notebook with the versions used "
   ]
  },
  {
   "cell_type": "code",
   "execution_count": 1,
   "metadata": {
    "collapsed": false
   },
   "outputs": [
    {
     "data": {
      "application/json": {
       "Software versions": [
        {
         "module": "Python",
         "version": "2.7.12 64bit [GCC 4.4.7 20120313 (Red Hat 4.4.7-1)]"
        },
        {
         "module": "IPython",
         "version": "5.1.0"
        },
        {
         "module": "OS",
         "version": "Linux 4.4.0 57 generic x86_64 with debian jessie sid"
        },
        {
         "module": "numpy",
         "version": "1.11.2"
        },
        {
         "module": "scipy",
         "version": "0.18.1"
        },
        {
         "module": "astropy",
         "version": "1.2.1"
        },
        {
         "module": "matplotlib",
         "version": "1.5.3"
        },
        {
         "module": "version_information",
         "version": "1.0.3"
        }
       ]
      },
      "text/html": [
       "<table><tr><th>Software</th><th>Version</th></tr><tr><td>Python</td><td>2.7.12 64bit [GCC 4.4.7 20120313 (Red Hat 4.4.7-1)]</td></tr><tr><td>IPython</td><td>5.1.0</td></tr><tr><td>OS</td><td>Linux 4.4.0 57 generic x86_64 with debian jessie sid</td></tr><tr><td>numpy</td><td>1.11.2</td></tr><tr><td>scipy</td><td>0.18.1</td></tr><tr><td>astropy</td><td>1.2.1</td></tr><tr><td>matplotlib</td><td>1.5.3</td></tr><tr><td>version_information</td><td>1.0.3</td></tr><tr><td colspan='2'>Wed Jan 04 16:28:04 2017 CST</td></tr></table>"
      ],
      "text/latex": [
       "\\begin{tabular}{|l|l|}\\hline\n",
       "{\\bf Software} & {\\bf Version} \\\\ \\hline\\hline\n",
       "Python & 2.7.12 64bit [GCC 4.4.7 20120313 (Red Hat 4.4.7-1)] \\\\ \\hline\n",
       "IPython & 5.1.0 \\\\ \\hline\n",
       "OS & Linux 4.4.0 57 generic x86\\_64 with debian jessie sid \\\\ \\hline\n",
       "numpy & 1.11.2 \\\\ \\hline\n",
       "scipy & 0.18.1 \\\\ \\hline\n",
       "astropy & 1.2.1 \\\\ \\hline\n",
       "matplotlib & 1.5.3 \\\\ \\hline\n",
       "version_information & 1.0.3 \\\\ \\hline\n",
       "\\hline \\multicolumn{2}{|l|}{Wed Jan 04 16:28:04 2017 CST} \\\\ \\hline\n",
       "\\end{tabular}\n"
      ],
      "text/plain": [
       "Software versions\n",
       "Python 2.7.12 64bit [GCC 4.4.7 20120313 (Red Hat 4.4.7-1)]\n",
       "IPython 5.1.0\n",
       "OS Linux 4.4.0 57 generic x86_64 with debian jessie sid\n",
       "numpy 1.11.2\n",
       "scipy 0.18.1\n",
       "astropy 1.2.1\n",
       "matplotlib 1.5.3\n",
       "version_information 1.0.3\n",
       "Wed Jan 04 16:28:04 2017 CST"
      ]
     },
     "execution_count": 1,
     "metadata": {},
     "output_type": "execute_result"
    }
   ],
   "source": [
    "%load_ext version_information\n",
    "%version_information numpy, scipy, astropy, matplotlib, version_information"
   ]
  },
  {
   "cell_type": "markdown",
   "metadata": {
    "collapsed": true
   },
   "source": [
    "# IDE\n",
    "\n",
    "Anaconda comes with its own interactive development environment (IDE) called spyder.\n",
    "Obviously you can use any editor to edit your codes. For instance, a widely used editor\n",
    "on Linux is emacs, which has its own Python modes.\n",
    "The advantage of an IDE is that it is self-contained. \n",
    "It can suggest classes, methods, etc. which are available in Python when editing.\n",
    "It helps with debugging, signals immediately unuseful lines of code or when the code is\n",
    "incorrect.\n",
    "It is also possible to run the code inside it.\n",
    "And it allows to define a project inside it when you are working on a complicate package.\n",
    "\n",
    "To experiment with spyder simply call it:\n",
    "\n",
    "*spyder*\n",
    "\n",
    "We will use this IDE to develop a package in the second series of lectures\n",
    "\n",
    "A more advanced IDE is *eclipse*.\n",
    "This tool is worth studying if you think to do more coding also in other languages such\n",
    "as C++ of Java. \n",
    "To run on python it needs an additional plugin.\n",
    "It is also possible to install a plugin to directly access github through git commands.\n",
    "The installation is extraordinary simple.\n",
    "The latest eclipse is available on:\n",
    "\n",
    "https://eclipse.org/downloads/index.php?show_instructions=TRUE\n",
    "\n",
    "To work with Python you will need to install the following plugin:\n",
    "\n",
    "https://marketplace.eclipse.org/content/pydev-python-ide-eclipse\n",
    "\n",
    "A nice tutorial for Python programming in Eclipse is available at:\n",
    "https://www.ics.uci.edu/~pattis/common/handouts/introtopythonineclipse/\n",
    "\n",
    "Finally, if you are interested in adding the eGit plugin to save your code versions\n",
    "in a faster way, you can install it from:\n",
    "\n",
    "http://marketplace.eclipse.org/content/egit-git-team-provider\n",
    "\n",
    "I will not cover *eclipse* in these lectures, but I encourage you to try it\n",
    "out if you should start to code in a more serious way.\n",
    "\n",
    "\n",
    "# Notebook\n",
    "\n",
    "Anaconda comes also with another wonder: the notebook.\n",
    "\n",
    "Calling:\n",
    "\n",
    "* jupyter notebook *\n",
    "\n",
    "you open your favorite browser to navigate the directory and opening \\*.ipynb files\n",
    "where notes, codes, and results are conserved (as these lessons).\n",
    "Once opening a notebook, the interactive version of Python which is running in the\n",
    "background allows one to run snippets of code and reproduce the results inside the\n",
    "notebook.\n",
    "Through *magic* commands, one can embed figures inside the document.\n",
    "So, the document can be conserve to reproduce your own research or passed to a \n",
    "collaborator to illustrate what you did.\n",
    "It is therefore a wonderful way to do your research, document, and conserve it.\n",
    "We will make a great use of this environment during the lectures to learn how to \n",
    "code in Python, before starting to write code in a serious package.\n",
    "\n",
    "An advanced lecture on notebook is available in the 2nd lecture.\n"
   ]
  },
  {
   "cell_type": "markdown",
   "metadata": {},
   "source": [
    "# The Unix shell\n",
    "\n",
    "If you have ever used a computer with some UNIX, you are already familiar with many UNIX command. But you are probably unaware of the many possibilities of shell commands.\n",
    "Or you probably never did a shell script.\n",
    "\n",
    "I find that knowing how to use shell commands can help you organizing your file structure,\n",
    "find things which you thought were lost, make complicate changes in several files,\n",
    "run programs in a repetitive way, and so on.\n",
    "\n",
    "So, my first advice to enhance your computer skills is to study how to use your \n",
    "shell efficiently.\n",
    "In this lecture, I will go through the main capabilities. Then, it is up to you to learn\n",
    "more and expand your skills. Usually, a good way to find how to do it, is asking Google.\n",
    "There are many answers out there if you know how to ask a question.\n",
    "\n",
    "\n",
    "## What is a shell ?\n",
    "\n",
    "A shell is, as the name suggests, an enclosure of the operative system of the computer which allows us to interact with it hiding its complexity.\n",
    "The most used Unix shell today is the Bash shell. This is a **command shell**, i.e. a shell that allows us  to interact with the computer through a series of criptic commands which\n",
    "we write on a keyboard. \n",
    "\n",
    "The commands are terse to be written in the fastest way possible. This makes them very\n",
    "cryptic.\n",
    "How many of you know what *pwd* means ?\n",
    "\n",
    "Yes, it's *print working directory*.\n",
    "\n",
    "Although nowadays it is possible to interact with computers with graphical interfaces, such as mice, touchscreens, thouchpads, etcetera,  command lines remain very effective and\n",
    "the only way to automate long sequences of orders and to interact with remote machines."
   ]
  },
  {
   "cell_type": "markdown",
   "metadata": {},
   "source": [
    "# Jobs\n",
    "\n",
    "One of the most important thing to do is monitoring the machine.\n",
    "If you are running a program and you have to stop it, how do you identify it ?\n",
    "And, what it's running now ?\n",
    "\n",
    "It turns out that in Unix any process is identified by a number.\n",
    "We can find the process and stop it, put it into back- or foreground, and kill it.\n",
    "\n",
    "To find out what you launched:\n",
    "\n",
    "- *jobs*\n",
    "\n",
    "To find out all the processes running:\n",
    "\n",
    "- *ps -a*\n",
    "- *ps -u username*\n",
    "\n",
    "To stop a running process, use the interrupt:\n",
    "\n",
    "- *CTRL-z*\n",
    "\n",
    "Then, put it in background:\n",
    "\n",
    "- *bg*\n",
    "\n",
    "If you want to put in foreground again, find its number with *jobs* and run:\n",
    "\n",
    "- *fg %i*\n",
    "\n",
    "Finally, if you want to kill a process:\n",
    "\n",
    "- *kill -9 %i*\n",
    "\n",
    "with *i* the process number.\n",
    "Finally, to have a dynamic view of what is going on inside your machine, use:\n",
    "\n",
    "- *top*\n",
    "\n",
    "which you can stop with:\n",
    "\n",
    "- *CTRL-c*\n",
    "\n",
    "\n",
    "\n"
   ]
  },
  {
   "cell_type": "code",
   "execution_count": 28,
   "metadata": {
    "collapsed": false
   },
   "outputs": [
    {
     "name": "stdout",
     "output_type": "stream",
     "text": [
      "  PID TTY          TIME CMD\n",
      " 5170 pts/18   00:00:05 jupyter-noteboo\n",
      " 5958 pts/18   00:00:00 eclipse\n",
      " 5961 pts/18   00:02:46 java\n",
      " 6089 pts/18   00:00:03 python\n",
      " 7303 pts/18   00:00:00 more\n"
     ]
    }
   ],
   "source": [
    "%%bash\n",
    "ps -a"
   ]
  },
  {
   "cell_type": "markdown",
   "metadata": {},
   "source": [
    "## Setting the prompt\n",
    "\n",
    "We call prompt the string that appears in a window in the line where we can write a command.\n",
    "It is usually quite complicated since it can contain your username, the directory path,\n",
    "the time, etcetera. We can redefine the prompt as a simple sign."
   ]
  },
  {
   "cell_type": "code",
   "execution_count": 4,
   "metadata": {
    "collapsed": false
   },
   "outputs": [
    {
     "name": "stdout",
     "output_type": "stream",
     "text": [
      "$\r\n"
     ]
    }
   ],
   "source": [
    "!echo $PS1"
   ]
  },
  {
   "cell_type": "markdown",
   "metadata": {},
   "source": [
    "Redefining the prompt."
   ]
  },
  {
   "cell_type": "code",
   "execution_count": 3,
   "metadata": {
    "collapsed": false
   },
   "outputs": [
    {
     "name": "stdout",
     "output_type": "stream",
     "text": [
      "\n",
      "$\n"
     ]
    }
   ],
   "source": [
    "%%bash\n",
    "PS1='$ '\n",
    "echo $PS1"
   ]
  },
  {
   "cell_type": "markdown",
   "metadata": {},
   "source": [
    "## Navigation\n",
    "\n",
    "\n",
    "First of all, let realize where and who we are.\n",
    "In Unix you can ask these questions to the computer.\n"
   ]
  },
  {
   "cell_type": "code",
   "execution_count": 9,
   "metadata": {
    "collapsed": false
   },
   "outputs": [
    {
     "name": "stdout",
     "output_type": "stream",
     "text": [
      "dario\n",
      "/media/Data/workspace/Workshops/CompSkills4Astro/Lessons\n"
     ]
    }
   ],
   "source": [
    "%%bash\n",
    "whoami\n",
    "pwd"
   ]
  },
  {
   "cell_type": "markdown",
   "metadata": {},
   "source": [
    "These commands gives the name of the user who is connected to the computer account and\n",
    "the current working directory.\n",
    "It shows the entire tree (or absolute path).\n",
    "\n",
    "At this point we want to know how what is contained in one directory and how to move around.\n",
    "This is accomplished with the commands:\n",
    "\n",
    "- *ls*    \n",
    "- *cd*    \n",
    "\n",
    "which mean *list* and *change directory*.\n",
    "\n",
    "As we will see, any command can come with several arguments.\n",
    "To know everything about the use of a command, we will use the command:\n",
    "\n",
    "- *man*\n",
    "\n",
    "as manual. For instance:"
   ]
  },
  {
   "cell_type": "code",
   "execution_count": 10,
   "metadata": {
    "collapsed": false
   },
   "outputs": [
    {
     "name": "stdout",
     "output_type": "stream",
     "text": [
      "PWD(1)                           User Commands                          PWD(1)\n",
      "\n",
      "\n",
      "\n",
      "NAME\n",
      "       pwd - print name of current/working directory\n",
      "\n",
      "SYNOPSIS\n",
      "       pwd [OPTION]...\n",
      "\n",
      "DESCRIPTION\n",
      "       Print the full filename of the current working directory.\n",
      "\n",
      "       -L, --logical\n",
      "              use PWD from environment, even if it contains symlinks\n",
      "\n",
      "       -P, --physical\n",
      "              avoid all symlinks\n",
      "\n",
      "       --help display this help and exit\n",
      "\n",
      "       --version\n",
      "              output version information and exit\n",
      "\n",
      "       NOTE:  your shell may have its own version of pwd, which usually super‐\n",
      "       sedes the version described here.  Please refer to your  shell's  docu‐\n",
      "       mentation for details about the options it supports.\n",
      "\n",
      "AUTHOR\n",
      "       Written by Jim Meyering.\n",
      "\n",
      "REPORTING BUGS\n",
      "       Report pwd bugs to bug-coreutils@gnu.org\n",
      "       GNU coreutils home page: <http://www.gnu.org/software/coreutils/>\n",
      "       General help using GNU software: <http://www.gnu.org/gethelp/>\n",
      "       Report pwd translation bugs to <http://translationproject.org/team/>\n",
      "\n",
      "COPYRIGHT\n",
      "       Copyright  ©  2013  Free Software Foundation, Inc.  License GPLv3+: GNU\n",
      "       GPL version 3 or later <http://gnu.org/licenses/gpl.html>.\n",
      "       This is free software: you are free  to  change  and  redistribute  it.\n",
      "       There is NO WARRANTY, to the extent permitted by law.\n",
      "\n",
      "SEE ALSO\n",
      "       getcwd(3)\n",
      "\n",
      "       The  full  documentation for pwd is maintained as a Texinfo manual.  If\n",
      "       the info and pwd programs are properly installed at your site, the com‐\n",
      "       mand\n",
      "\n",
      "              info coreutils 'pwd invocation'\n",
      "\n",
      "       should give you access to the complete manual.\n",
      "\n",
      "\n",
      "\n",
      "GNU coreutils 8.21                March 2016                            PWD(1)\n"
     ]
    }
   ],
   "source": [
    "%%bash\n",
    "man pwd"
   ]
  },
  {
   "cell_type": "markdown",
   "metadata": {},
   "source": [
    "Another command which can be useful to find a command, is:\n",
    "\n",
    "- *apropos*\n",
    "\n",
    "For instance, if we search for pwd, we can see if there is a command with \"working directory\":"
   ]
  },
  {
   "cell_type": "code",
   "execution_count": 11,
   "metadata": {
    "collapsed": false
   },
   "outputs": [
    {
     "name": "stdout",
     "output_type": "stream",
     "text": [
      "chdir (2)            - change working directory\n",
      "Cwd (3perl)          - get pathname of current working directory\n",
      "fchdir (2)           - change working directory\n",
      "get_current_dir_name (3) - get current working directory\n",
      "getcwd (2)           - get current working directory\n",
      "getcwd (3)           - get current working directory\n",
      "getwd (3)            - get current working directory\n",
      "git-stash (1)        - Stash the changes in a dirty working directory away\n",
      "pwd (1)              - print name of current/working directory\n",
      "pwdx (1)             - report current working directory of a process\n"
     ]
    }
   ],
   "source": [
    "%%bash\n",
    "apropos \"working directory\""
   ]
  },
  {
   "cell_type": "markdown",
   "metadata": {},
   "source": [
    "Commands with many options usually have an help page which can be called typing --help\n",
    "after the command."
   ]
  },
  {
   "cell_type": "code",
   "execution_count": 18,
   "metadata": {
    "collapsed": false
   },
   "outputs": [
    {
     "name": "stdout",
     "output_type": "stream",
     "text": [
      "Usage: ls [OPTION]... [FILE]...\n",
      "List information about the FILEs (the current directory by default).\n",
      "Sort entries alphabetically if none of -cftuvSUX nor --sort is specified.\n",
      "\n",
      "Mandatory arguments to long options are mandatory for short options too.\n",
      "  -a, --all                  do not ignore entries starting with .\n",
      "  -A, --almost-all           do not list implied . and ..\n",
      "      --author               with -l, print the author of each file\n",
      "  -b, --escape               print C-style escapes for nongraphic characters\n",
      "      --block-size=SIZE      scale sizes by SIZE before printing them.  E.g.,\n",
      "                               '--block-size=M' prints sizes in units of\n",
      "                               1,048,576 bytes.  See SIZE format below.\n",
      "  -B, --ignore-backups       do not list implied entries ending with ~\n",
      "  -c                         with -lt: sort by, and show, ctime (time of last\n",
      "                               modification of file status information)\n",
      "                               with -l: show ctime and sort by name\n",
      "                               otherwise: sort by ctime, newest first\n",
      "  -C                         list entries by columns\n",
      "      --color[=WHEN]         colorize the output.  WHEN defaults to 'always'\n",
      "                               or can be 'never' or 'auto'.  More info below\n",
      "  -d, --directory            list directory entries instead of contents,\n",
      "                               and do not dereference symbolic links\n",
      "  -D, --dired                generate output designed for Emacs' dired mode\n",
      "  -f                         do not sort, enable -aU, disable -ls --color\n",
      "  -F, --classify             append indicator (one of */=>@|) to entries\n",
      "      --file-type            likewise, except do not append '*'\n",
      "      --format=WORD          across -x, commas -m, horizontal -x, long -l,\n",
      "                               single-column -1, verbose -l, vertical -C\n",
      "      --full-time            like -l --time-style=full-iso\n",
      "  -g                         like -l, but do not list owner\n",
      "      --group-directories-first\n",
      "                             group directories before files.\n",
      "                               augment with a --sort option, but any\n",
      "                               use of --sort=none (-U) disables grouping\n",
      "  -G, --no-group             in a long listing, don't print group names\n",
      "  -h, --human-readable       with -l, print sizes in human readable format\n",
      "                               (e.g., 1K 234M 2G)\n",
      "      --si                   likewise, but use powers of 1000 not 1024\n",
      "  -H, --dereference-command-line\n",
      "                             follow symbolic links listed on the command line\n",
      "      --dereference-command-line-symlink-to-dir\n",
      "                             follow each command line symbolic link\n",
      "                             that points to a directory\n",
      "      --hide=PATTERN         do not list implied entries matching shell PATTERN\n",
      "                               (overridden by -a or -A)\n",
      "      --indicator-style=WORD  append indicator with style WORD to entry names:\n",
      "                               none (default), slash (-p),\n",
      "                               file-type (--file-type), classify (-F)\n",
      "  -i, --inode                print the index number of each file\n",
      "  -I, --ignore=PATTERN       do not list implied entries matching shell PATTERN\n",
      "  -k, --kibibytes            use 1024-byte blocks\n",
      "  -l                         use a long listing format\n",
      "  -L, --dereference          when showing file information for a symbolic\n",
      "                               link, show information for the file the link\n",
      "                               references rather than for the link itself\n",
      "  -m                         fill width with a comma separated list of entries\n",
      "  -n, --numeric-uid-gid      like -l, but list numeric user and group IDs\n",
      "  -N, --literal              print raw entry names (don't treat e.g. control\n",
      "                               characters specially)\n",
      "  -o                         like -l, but do not list group information\n",
      "  -p, --indicator-style=slash\n",
      "                             append / indicator to directories\n",
      "  -q, --hide-control-chars   print ? instead of non graphic characters\n",
      "      --show-control-chars   show non graphic characters as-is (default\n",
      "                             unless program is 'ls' and output is a terminal)\n",
      "  -Q, --quote-name           enclose entry names in double quotes\n",
      "      --quoting-style=WORD   use quoting style WORD for entry names:\n",
      "                               literal, locale, shell, shell-always, c, escape\n",
      "  -r, --reverse              reverse order while sorting\n",
      "  -R, --recursive            list subdirectories recursively\n",
      "  -s, --size                 print the allocated size of each file, in blocks\n",
      "  -S                         sort by file size\n",
      "      --sort=WORD            sort by WORD instead of name: none -U,\n",
      "                             extension -X, size -S, time -t, version -v\n",
      "      --time=WORD            with -l, show time as WORD instead of modification\n",
      "                             time: atime -u, access -u, use -u, ctime -c,\n",
      "                             or status -c; use specified time as sort key\n",
      "                             if --sort=time\n",
      "      --time-style=STYLE     with -l, show times using style STYLE:\n",
      "                             full-iso, long-iso, iso, locale, +FORMAT.\n",
      "                             FORMAT is interpreted like 'date'; if FORMAT is\n",
      "                             FORMAT1<newline>FORMAT2, FORMAT1 applies to\n",
      "                             non-recent files and FORMAT2 to recent files;\n",
      "                             if STYLE is prefixed with 'posix-', STYLE\n",
      "                             takes effect only outside the POSIX locale\n",
      "  -t                         sort by modification time, newest first\n",
      "  -T, --tabsize=COLS         assume tab stops at each COLS instead of 8\n",
      "  -u                         with -lt: sort by, and show, access time\n",
      "                               with -l: show access time and sort by name\n",
      "                               otherwise: sort by access time\n",
      "  -U                         do not sort; list entries in directory order\n",
      "  -v                         natural sort of (version) numbers within text\n",
      "  -w, --width=COLS           assume screen width instead of current value\n",
      "  -x                         list entries by lines instead of by columns\n",
      "  -X                         sort alphabetically by entry extension\n",
      "  -Z, --context              print any SELinux security context of each file\n",
      "  -1                         list one file per line\n",
      "      --help     display this help and exit\n",
      "      --version  output version information and exit\n",
      "\n",
      "SIZE is an integer and optional unit (example: 10M is 10*1024*1024).  Units\n",
      "are K, M, G, T, P, E, Z, Y (powers of 1024) or KB, MB, ... (powers of 1000).\n",
      "\n",
      "Using color to distinguish file types is disabled both by default and\n",
      "with --color=never.  With --color=auto, ls emits color codes only when\n",
      "standard output is connected to a terminal.  The LS_COLORS environment\n",
      "variable can change the settings.  Use the dircolors command to set it.\n",
      "\n",
      "Exit status:\n",
      " 0  if OK,\n",
      " 1  if minor problems (e.g., cannot access subdirectory),\n",
      " 2  if serious trouble (e.g., cannot access command-line argument).\n",
      "\n",
      "Report ls bugs to bug-coreutils@gnu.org\n",
      "GNU coreutils home page: <http://www.gnu.org/software/coreutils/>\n",
      "General help using GNU software: <http://www.gnu.org/gethelp/>\n",
      "For complete documentation, run: info coreutils 'ls invocation'\n"
     ]
    }
   ],
   "source": [
    "%%bash\n",
    "ls --help"
   ]
  },
  {
   "cell_type": "markdown",
   "metadata": {},
   "source": [
    "## Changing directory\n",
    "\n",
    "We can navigate around the directory tree using the command *cd*.\n",
    "There are three possible uses of cd:\n",
    "\n",
    "1.  *cd*     \n",
    "2.  *cd ..*\n",
    "3.  *cd path*\n",
    "\n",
    "In the first case, we go to the *home directory*."
   ]
  },
  {
   "cell_type": "code",
   "execution_count": 25,
   "metadata": {
    "collapsed": false
   },
   "outputs": [
    {
     "name": "stdout",
     "output_type": "stream",
     "text": [
      "/media/Data/workspace/Workshops/CompSkills4Astro/Lessons\n",
      "/home/dario\n"
     ]
    }
   ],
   "source": [
    "%%bash\n",
    "pwd\n",
    "cd\n",
    "pwd"
   ]
  },
  {
   "cell_type": "markdown",
   "metadata": {},
   "source": [
    "In the second case, we go in the *parent directory*.\n",
    "\n",
    "'..’ means ‘the directory above the current one’; ‘.’ on its own means ‘the current directory’."
   ]
  },
  {
   "cell_type": "code",
   "execution_count": 26,
   "metadata": {
    "collapsed": false
   },
   "outputs": [
    {
     "name": "stdout",
     "output_type": "stream",
     "text": [
      "/media/Data/workspace/Workshops/CompSkills4Astro/Lessons\n",
      "/media/Data/workspace/Workshops/CompSkills4Astro\n"
     ]
    }
   ],
   "source": [
    "%%bash\n",
    "pwd\n",
    "cd ..\n",
    "pwd"
   ]
  },
  {
   "cell_type": "markdown",
   "metadata": {},
   "source": [
    "Finally, we can go to a path. This can be an absolute path (containing the\n",
    "entire path) or a relative path (i.e. a subdirectory)."
   ]
  },
  {
   "cell_type": "code",
   "execution_count": 27,
   "metadata": {
    "collapsed": false
   },
   "outputs": [
    {
     "name": "stdout",
     "output_type": "stream",
     "text": [
      "/media/Data/workspace/Workshops/CompSkills4Astro/Lessons\n",
      "/media/Data/workspace/Workshops/CompSkills4Astro/Notes\n"
     ]
    }
   ],
   "source": [
    "%%bash\n",
    "pwd\n",
    "cd ../Notes\n",
    "pwd"
   ]
  },
  {
   "cell_type": "markdown",
   "metadata": {},
   "source": [
    "## Listing a directory content\n",
    "\n",
    "*ls* is a very versatile command. Can be used with a miriad of options.\n",
    "So, let see together a few frequently used ones.\n",
    "\n",
    "1. ls -F\n",
    "2. ls -a\n",
    "3. ls -lh\n",
    "4. ls -t\n",
    "\n",
    "In the 1st case, an identifier is added at the end of the item.\n",
    "For instance, in the case of directories, a slash is added to the names of directories.\n",
    "\n",
    "The option *-a* allows one to see all the files, also the hidden files which in Unix\n",
    "start with a dot \".\" and are commonly invisible.\n",
    "\n",
    "The third option shows the files with a lot of information, such as privileges, size,\n",
    "dates. The extra option *-h* writes the sizes in human-readable form (such as K bytes).\n",
    "\n",
    "Finally, a useful option is ordering the files according to their last modification date.\n",
    "The most recent are listed first."
   ]
  },
  {
   "cell_type": "markdown",
   "metadata": {},
   "source": [
    "# Creating and destroying\n",
    "\n",
    "\n",
    "To organize files we need a directory structure.\n",
    "So, it is useful to know how to create, move, and destroy directories.\n",
    "This is accomplished with the commands:\n",
    "\n",
    "1. *mkdir*\n",
    "2. *mv*\n",
    "3. *rmdir* and *rm -r*\n",
    "\n",
    "Let see an example."
   ]
  },
  {
   "cell_type": "code",
   "execution_count": 40,
   "metadata": {
    "collapsed": false
   },
   "outputs": [
    {
     "name": "stdout",
     "output_type": "stream",
     "text": [
      "Astropy/\n",
      " ----- After creation ----- \n",
      "Astropy/\n",
      "Test/\n",
      " ----- After moving  -------\n",
      "Astropy/\n",
      "Test2/\n",
      " ----- After removing ------\n",
      "Astropy/\n"
     ]
    }
   ],
   "source": [
    "%%bash\n",
    "\n",
    "ls -d */\n",
    "mkdir Test\n",
    "echo \" ----- After creation ----- \"\n",
    "ls -d */\n",
    "mv Test Test2\n",
    "echo \" ----- After moving  -------\"\n",
    "ls -d */\n",
    "rmdir Test2\n",
    "echo \" ----- After removing ------\"\n",
    "ls -d */"
   ]
  },
  {
   "cell_type": "markdown",
   "metadata": {},
   "source": [
    "We proceed in a similar way with files.\n",
    "It is possible to create an empty file using the command *touch*.\n",
    "This command is usually used to update the time stamp of the file. If the file\n",
    "does not exist, it creates an empty file.\n",
    "\n",
    "So, let's see another example."
   ]
  },
  {
   "cell_type": "code",
   "execution_count": 44,
   "metadata": {
    "collapsed": false
   },
   "outputs": [
    {
     "name": "stdout",
     "output_type": "stream",
     "text": [
      " ---- start ------\n",
      " ----- file created ----\n",
      "test\n",
      " ------ file renamed -----\n",
      "test2\n",
      " ------ file removed ------\n"
     ]
    },
    {
     "name": "stderr",
     "output_type": "stream",
     "text": [
      "ls: cannot access test*: No such file or directory\n",
      "ls: cannot access test*: No such file or directory\n"
     ]
    }
   ],
   "source": [
    "%%bash\n",
    "echo \" ---- start ------\"\n",
    "ls test*\n",
    "touch test\n",
    "echo \" ----- file created ----\"\n",
    "ls test*\n",
    "mv test test2\n",
    "echo \" ------ file renamed -----\"\n",
    "ls test*\n",
    "rm test2\n",
    "echo \" ------ file removed ------\"\n",
    "ls test*"
   ]
  },
  {
   "cell_type": "markdown",
   "metadata": {},
   "source": [
    "A good measure when using \"rm\" is to ask for confirmation.\n",
    "This is achieved with the option \"-i\""
   ]
  },
  {
   "cell_type": "code",
   "execution_count": 45,
   "metadata": {
    "collapsed": false
   },
   "outputs": [
    {
     "name": "stderr",
     "output_type": "stream",
     "text": [
      "rm: remove regular empty file ‘test’? "
     ]
    }
   ],
   "source": [
    "%%bash\n",
    "touch test\n",
    "rm -i test"
   ]
  },
  {
   "cell_type": "markdown",
   "metadata": {},
   "source": [
    "Finally, we want to know how to copy files, directories, and entire trees.\n",
    "This is accomplished with the command *cd*.\n",
    "\n",
    "In particular we can copy files into an existing directory:\n",
    "\n",
    "- cp file directory\n",
    "\n",
    "Copy all files starting ending with txt in a directory:\n",
    "\n",
    "- cp \\*.txt directory\n",
    "\n",
    "Copy recursiverly a directory into another location:\n",
    "\n",
    "- cp -r directory1 path"
   ]
  },
  {
   "cell_type": "markdown",
   "metadata": {},
   "source": [
    "Editing files is another big chapter.\n",
    "For this scope one can use one of the major editors: vi, emacs, etctera.\n",
    "Although I use mainly **emacs**, it is useful to know the basics of **vi**\n",
    "since it is always installed in a Unix system and can be handy when managing big files.\n",
    "\n",
    "The basic command to learn are:\n",
    "\n",
    "- *vi filename*    opens a file\n",
    "- *i*   enter text *ESC*   to insert text at the cursor\n",
    "- *a*   enter text *ESC*   to append text after the cursor\n",
    "- *x*   to delete a character\n",
    "- *dd*  to delete a line\n",
    "- *ZZ*  save the file\n",
    "- *:q*  quit\n",
    "\n",
    "Inside the file, you can search for a string by typing backslash string:\n",
    "\n",
    "- *\\string*\n",
    "\n",
    "Note: You should learn about *Command mode* and *Insert mode* in **vi** before getting start,\n",
    "or you may feel very confused about everything.\n"
   ]
  },
  {
   "cell_type": "markdown",
   "metadata": {},
   "source": [
    "# Pipes and filters"
   ]
  },
  {
   "cell_type": "markdown",
   "metadata": {},
   "source": [
    "At this point, after introducing some basic commands, let's have a look to one of the most powerful feature of the shell: combining commands.\n",
    "\n",
    "To introduce some examples, we will use a popular command:\n",
    "\n",
    "- *wc*,  called word count\n",
    "\n",
    "As usually, we will use it with an option to get the number of lines in a file: *-l*.\n",
    "\n",
    "We can use *-c* or *-w* to count characters or words.\n"
   ]
  },
  {
   "cell_type": "code",
   "execution_count": 47,
   "metadata": {
    "collapsed": false
   },
   "outputs": [
    {
     "name": "stdout",
     "output_type": "stream",
     "text": [
      "  1907 git.ipynb\n",
      "  1066 Lecture 1.ipynb\n",
      "  1658 Notebook.ipynb\n",
      "  4373 pandas.ipynb\n",
      "   314 PythonBasics.ipynb\n",
      "  9318 total\n"
     ]
    }
   ],
   "source": [
    "%%bash\n",
    "wc -l *.ipynb"
   ]
  },
  {
   "cell_type": "markdown",
   "metadata": {},
   "source": [
    "At this point, we will redirect this to a file, using *>*."
   ]
  },
  {
   "cell_type": "code",
   "execution_count": 48,
   "metadata": {
    "collapsed": true
   },
   "outputs": [],
   "source": [
    "%%bash\n",
    "wc -l *.ipynb > lengths.txt"
   ]
  },
  {
   "cell_type": "markdown",
   "metadata": {},
   "source": [
    "We can see the content of this file with the command: *cat* as catalog:"
   ]
  },
  {
   "cell_type": "code",
   "execution_count": 49,
   "metadata": {
    "collapsed": false
   },
   "outputs": [
    {
     "name": "stdout",
     "output_type": "stream",
     "text": [
      "  1907 git.ipynb\n",
      "  1066 Lecture 1.ipynb\n",
      "  1658 Notebook.ipynb\n",
      "  4373 pandas.ipynb\n",
      "   314 PythonBasics.ipynb\n",
      "  9318 total\n"
     ]
    }
   ],
   "source": [
    "%%bash\n",
    "cat lengths.txt"
   ]
  },
  {
   "cell_type": "markdown",
   "metadata": {},
   "source": [
    "We can sort this file according to the length (first argument in each line): "
   ]
  },
  {
   "cell_type": "code",
   "execution_count": 50,
   "metadata": {
    "collapsed": false
   },
   "outputs": [
    {
     "name": "stdout",
     "output_type": "stream",
     "text": [
      "   314 PythonBasics.ipynb\n",
      "  1066 Lecture 1.ipynb\n",
      "  1658 Notebook.ipynb\n",
      "  1907 git.ipynb\n",
      "  4373 pandas.ipynb\n",
      "  9318 total\n"
     ]
    }
   ],
   "source": [
    "%%bash\n",
    "sort -n lengths.txt"
   ]
  },
  {
   "cell_type": "markdown",
   "metadata": {},
   "source": [
    "We can output this sorted list in a file and get the first line with *head* and the last line with *tail*:"
   ]
  },
  {
   "cell_type": "code",
   "execution_count": 52,
   "metadata": {
    "collapsed": false
   },
   "outputs": [
    {
     "name": "stdout",
     "output_type": "stream",
     "text": [
      "   314 PythonBasics.ipynb\n",
      "  9318 total\n"
     ]
    }
   ],
   "source": [
    "%%bash\n",
    "sort -n lengths.txt > sorted-lengths.txt\n",
    "head -n 1 sorted-lengths.txt\n",
    "tail -n 1 sorted-lengths.txt"
   ]
  },
  {
   "cell_type": "markdown",
   "metadata": {},
   "source": [
    "Instead of saving the result of a command in a file, we can directly pipe the result in another command:"
   ]
  },
  {
   "cell_type": "code",
   "execution_count": 53,
   "metadata": {
    "collapsed": false
   },
   "outputs": [
    {
     "name": "stdout",
     "output_type": "stream",
     "text": [
      "   314 PythonBasics.ipynb\n",
      "  1161 Lecture 1.ipynb\n",
      "  1658 Notebook.ipynb\n",
      "  1907 git.ipynb\n",
      "  4373 pandas.ipynb\n",
      "  9413 total\n"
     ]
    }
   ],
   "source": [
    "%%bash\n",
    "wc -l *.ipynb | sort -n"
   ]
  },
  {
   "cell_type": "markdown",
   "metadata": {},
   "source": [
    "And even pipe it again to get only the shortest file:"
   ]
  },
  {
   "cell_type": "code",
   "execution_count": 54,
   "metadata": {
    "collapsed": false
   },
   "outputs": [
    {
     "name": "stdout",
     "output_type": "stream",
     "text": [
      "   314 PythonBasics.ipynb\n"
     ]
    }
   ],
   "source": [
    "%%bash\n",
    "wc -l *.ipynb | sort -n | head -1"
   ]
  },
  {
   "cell_type": "markdown",
   "metadata": {},
   "source": [
    "This fact is made possible by the way commands work in Unix.\n",
    "Each command is a program which accepts data from a channel called **standard input** (or **stdin**) and outputs results on another channel called **standard output** (or **stdout**). A third channel, called **standard error** (or **stderr**) is used to communicate error messages.\n",
    "\n",
    "When a pipe is used, the **stdout** of the first program becomes the **stdin** of the following program. So, in Unix it is possible to build many little programs and chain them to execute complicate operations in an efficient way."
   ]
  },
  {
   "cell_type": "markdown",
   "metadata": {},
   "source": [
    "More on redirection:\n",
    "\n",
    "- *< file* , use the content of a file as stdin\n",
    "- *>> file*, append the result to an existing file"
   ]
  },
  {
   "cell_type": "markdown",
   "metadata": {},
   "source": [
    "### Wildcards\n",
    "\n",
    "Let do a little digression about wildcards.\n",
    "When we want to consider a group of files with part of name in common, we can use two\n",
    "symbols:\n",
    "\n",
    "- \\*\n",
    "- ?\n",
    "\n",
    "The first allows to substitute a generic string. The second one a generic character.\n",
    "We can also use wildcard expressions.\n",
    "These contain a set of characters inside square brackets.\n",
    "\n",
    "- [AB]\n",
    "- [a-c]\n",
    "- [0-4]\n",
    "- [^AB]\n",
    "\n",
    "For instance, 'ls \\*[AB].txt' will match all the files ending in A.txt or B.txt.\n",
    "If we want to exclude only these files we will use 'ls \\*[^AB].txt'.\n",
    "The expressions [0-4] mean all the digits between 0 and 4. [a-c] is equivalent to [abc].\n"
   ]
  },
  {
   "cell_type": "code",
   "execution_count": 57,
   "metadata": {
    "collapsed": false
   },
   "outputs": [
    {
     "name": "stdout",
     "output_type": "stream",
     "text": [
      "Notebook.ipynb\n",
      "pandas.ipynb\n",
      "PythonBasics.ipynb\n"
     ]
    }
   ],
   "source": [
    "%%bash\n",
    "ls *[sk].ipynb"
   ]
  },
  {
   "cell_type": "code",
   "execution_count": 58,
   "metadata": {
    "collapsed": false
   },
   "outputs": [
    {
     "name": "stdout",
     "output_type": "stream",
     "text": [
      "git.ipynb\n",
      "Lecture 1.ipynb\n"
     ]
    }
   ],
   "source": [
    "%%bash\n",
    "ls *[^sk].ipynb"
   ]
  },
  {
   "cell_type": "markdown",
   "metadata": {},
   "source": [
    "### Other useful commands:\n",
    "\n",
    "- *tr*\n",
    "\n",
    "Translate, squeeze, deletes characters.\n",
    "For instance, we can squeeze all the blanks in a file with \"tr ' ' file\"\n",
    "\n",
    "- *cut*\n",
    "\n",
    "Cut the output. We can use a column by giving a delimiter or the column numbers.\n",
    "\n",
    "- *uniq*\n",
    "\n",
    "Filters the unique entries. The input should be sorted."
   ]
  },
  {
   "cell_type": "code",
   "execution_count": 5,
   "metadata": {
    "collapsed": false
   },
   "outputs": [
    {
     "name": "stdout",
     "output_type": "stream",
     "text": [
      "   1907 git.ipynb\n",
      "   2370 Lecture-1.ipynb\n",
      "   1675 Lecture-2A.ipynb\n",
      "   3975 Lecture-2B.ipynb\n",
      "   5243 Lecture-3.ipynb\n",
      "   3289 Lecture-4.ipynb\n",
      "   1977 Lecture-5.ipynb\n",
      "   1425 Lecture-7.ipynb\n",
      "   4364 pandas.ipynb\n",
      "     81 Solutions-1.ipynb\n",
      "  26306 total\n",
      " \n",
      " git.ipynb\n",
      " Lecture-1.ipynb\n",
      " Lecture-2A.ipynb\n",
      " Lecture-2B.ipynb\n",
      " Lecture-3.ipynb\n",
      " Lecture-4.ipynb\n",
      " Lecture-5.ipynb\n",
      " Lecture-7.ipynb\n",
      " pandas.ipynb\n",
      " Solutions-1.ipynb\n",
      " total\n"
     ]
    }
   ],
   "source": [
    "%%bash\n",
    "wc -l *.ipynb\n",
    "echo \" \"\n",
    "wc -l *.ipynb | cut -c 8-25"
   ]
  },
  {
   "cell_type": "code",
   "execution_count": 11,
   "metadata": {
    "collapsed": false
   },
   "outputs": [
    {
     "name": "stdout",
     "output_type": "stream",
     "text": [
      "git.ipynb\n",
      "Lecture-1.ipynb\n",
      "Lecture-2A.ipynb\n",
      "Lecture-2B.ipynb\n",
      "Lecture-3.ipynb\n",
      "Lecture-4.ipynb\n",
      "Lecture-5.ipynb\n",
      "Lecture-7.ipynb\n",
      "pandas.ipynb\n",
      "Solutions-1.ipynb\n",
      "total\n"
     ]
    }
   ],
   "source": [
    "%%bash\n",
    "wc -l *.ipynb | tr -s ' ' | cut -d' ' -f 3"
   ]
  },
  {
   "cell_type": "code",
   "execution_count": 28,
   "metadata": {
    "collapsed": false
   },
   "outputs": [
    {
     "name": "stdout",
     "output_type": "stream",
     "text": [
      "one two three and four "
     ]
    }
   ],
   "source": [
    "%%bash\n",
    "echo 'one\n",
    "two\n",
    "three and  four' | tr \"\\n\" \" \" | tr -s ' '"
   ]
  },
  {
   "cell_type": "markdown",
   "metadata": {},
   "source": [
    "## Loops\n",
    "\n",
    "Sometimes we have to repeat the same command several times using different arguments.\n",
    "For instance, changing names of files or showing the beginning of a list of files.\n",
    "That's what loops are for !\n",
    "\n",
    "Let's see a simple example:"
   ]
  },
  {
   "cell_type": "code",
   "execution_count": 77,
   "metadata": {
    "collapsed": false
   },
   "outputs": [
    {
     "name": "stdout",
     "output_type": "stream",
     "text": [
      "git.ipynb\n",
      "    \"RCS can used on almost any digital content, so it is not only restricted to software development, and is also very useful for manuscript files, figures, data and notebooks!\\n\",\n",
      "Lecture-1.ipynb\n",
      "    \"Typically on Linux it is sufficient to install it with:\\n\",\n",
      "Notebook.ipynb\n",
      "    \"\\n\",\n",
      "pandas.ipynb\n",
      "   \"outputs\": [\n",
      "PythonBasics.ipynb\n",
      "    \"How to define a variable and check its type:\"\n"
     ]
    }
   ],
   "source": [
    "%%bash\n",
    "for filename in *.ipynb\n",
    "do\n",
    "    echo $filename\n",
    "    head -40 $filename | tail -n 1 \n",
    "done"
   ]
  },
  {
   "cell_type": "markdown",
   "metadata": {},
   "source": [
    "In this case we create a list of files with the command \"\\*.ipynb\".\n",
    "The \"for\" loop assigns to the variable $filename each name of the list.\n",
    "Then operates the commands inside the loop to each one of them.\n",
    "\n",
    "Whitespace is used to separate the elements of the list. If one file happens to\n",
    "have a space in the name, it will be treated as two files.\n",
    "So, it's a good practice to avoid spaces in the names.\n",
    "Otherwise, the name has to be passed inside quotes, such as \"file .dat\".\n",
    "\n",
    "We can also give the same command in one line using semicolons to divide the commands:"
   ]
  },
  {
   "cell_type": "code",
   "execution_count": 78,
   "metadata": {
    "collapsed": false
   },
   "outputs": [
    {
     "name": "stdout",
     "output_type": "stream",
     "text": [
      "git.ipynb\n",
      "    \"RCS can used on almost any digital content, so it is not only restricted to software development, and is also very useful for manuscript files, figures, data and notebooks!\\n\",\n",
      "Lecture-1.ipynb\n",
      "    \"Typically on Linux it is sufficient to install it with:\\n\",\n",
      "Notebook.ipynb\n",
      "    \"\\n\",\n",
      "pandas.ipynb\n",
      "   \"outputs\": [\n",
      "PythonBasics.ipynb\n",
      "    \"How to define a variable and check its type:\"\n"
     ]
    }
   ],
   "source": [
    "%%bash\n",
    "for filename in *.ipynb; do echo $filename; head -40 $filename | tail -n 1; done"
   ]
  },
  {
   "cell_type": "markdown",
   "metadata": {},
   "source": [
    "### History\n",
    "\n",
    "Another way to repeat commands is to use the history:\n",
    "\n",
    "history | tail -n 5\n",
    "\n",
    "gives the last five commands. It does not work in notebook, anyway.\n",
    "Each command has a number. So, if we are interested in repeating the command number 450,\n",
    "we will simply do:\n",
    "\n",
    "!450\n",
    "\n",
    "If we remember we wrote a command, we can search in the history with **Ctrl-R** and\n",
    "part of the command. \n",
    "\n",
    "Finally, we can go through the history simply using the up- and down-arrows on the keyboard."
   ]
  },
  {
   "cell_type": "markdown",
   "metadata": {},
   "source": [
    "## Shell scripts\n",
    "\n",
    "When we use frequently a series of commands, we can save them in a shell script.\n",
    "A typical script start with a !bang line which define the language (bash in this\n",
    "case) and the file has an extensions .sh\n",
    "We can make the file executable (chmod +x file.sh) and run it directly.\n",
    "\n",
    "\n"
   ]
  },
  {
   "cell_type": "code",
   "execution_count": 85,
   "metadata": {
    "collapsed": true
   },
   "outputs": [],
   "source": [
    "%%bash\n",
    "echo '#!/usr/bin/env bash' > script.sh\n",
    "echo '\n",
    "for filename in *.ipynb\n",
    "do\n",
    "    echo $filename\n",
    "    head -40 $filename | tail -n 1 \n",
    "done\n",
    "' >> script.sh\n",
    "\n",
    "chmod +x script.sh"
   ]
  },
  {
   "cell_type": "markdown",
   "metadata": {},
   "source": [
    "At this point we can execute the file."
   ]
  },
  {
   "cell_type": "code",
   "execution_count": 91,
   "metadata": {
    "collapsed": false
   },
   "outputs": [
    {
     "name": "stdout",
     "output_type": "stream",
     "text": [
      "git.ipynb\n",
      "    \"RCS can used on almost any digital content, so it is not only restricted to software development, and is also very useful for manuscript files, figures, data and notebooks!\\n\",\n",
      "Lecture-1.ipynb\n",
      "    \"Typically on Linux it is sufficient to install it with:\\n\",\n",
      "Notebook.ipynb\n",
      "    \"\\n\",\n",
      "pandas.ipynb\n",
      "   \"outputs\": [\n",
      "PythonBasics.ipynb\n",
      "    \"How to define a variable and check its type:\"\n"
     ]
    }
   ],
   "source": [
    "%%bash\n",
    "script.sh"
   ]
  },
  {
   "cell_type": "markdown",
   "metadata": {},
   "source": [
    "Now, a more complex example. We write a script to explore part of a file.\n",
    "The name of the file, as well as starting and ending lines are given.\n",
    "To make the script more readable we will also add comments (lines starting with #)"
   ]
  },
  {
   "cell_type": "code",
   "execution_count": 90,
   "metadata": {
    "collapsed": false
   },
   "outputs": [
    {
     "name": "stdout",
     "output_type": "stream",
     "text": [
      "    \"Typically on Linux it is sufficient to install it with:\\n\",\n"
     ]
    }
   ],
   "source": [
    "%%bash\n",
    "echo '#!/usr/bin/env bash' > middle.sh\n",
    "echo '# show the middle part of a file' >> middle.sh\n",
    "echo '# Usage: middle.sh filename end_line number_of_lines  ' >> middle.sh\n",
    "echo 'head -n \"$2\" \"$1\" | tail -n \"$3\"' >> middle.sh\n",
    "\n",
    "chmod +x middle.sh\n",
    "\n",
    "middle.sh Lecture-1.ipynb 40 1"
   ]
  },
  {
   "cell_type": "markdown",
   "metadata": {},
   "source": [
    "Finally, an example with a list as input.\n",
    "In this case we use the variable **$@** which refers to all of the input parameters."
   ]
  },
  {
   "cell_type": "code",
   "execution_count": 92,
   "metadata": {
    "collapsed": false
   },
   "outputs": [
    {
     "name": "stdout",
     "output_type": "stream",
     "text": [
      "git.ipynb\n",
      "    \"RCS can used on almost any digital content, so it is not only restricted to software development, and is also very useful for manuscript files, figures, data and notebooks!\\n\",\n",
      "Lecture-1.ipynb\n",
      "    \"Typically on Linux it is sufficient to install it with:\\n\",\n",
      "Notebook.ipynb\n",
      "    \"\\n\",\n",
      "pandas.ipynb\n",
      "   \"outputs\": [\n",
      "PythonBasics.ipynb\n",
      "    \"How to define a variable and check its type:\"\n"
     ]
    }
   ],
   "source": [
    "%%bash\n",
    "echo '#!/usr/bin/env bash' > script2.sh\n",
    "echo '\n",
    "for filename in \"$@\"\n",
    "do\n",
    "    echo $filename\n",
    "    head -40 $filename | tail -n 1 \n",
    "done\n",
    "' >> script2.sh\n",
    "\n",
    "chmod +x script2.sh\n",
    "script2.sh *.ipynb"
   ]
  },
  {
   "cell_type": "markdown",
   "metadata": {},
   "source": [
    "If we want to define variables and arrays inside a bash script we have a particular syntax.\n",
    "Variables are declared as:\n",
    "\n",
    "var=\"variable\"\n",
    "\n",
    "and called as $var.\n",
    "\n",
    "Arrays are defined as:\n",
    "\n",
    "ARRAY=(\n",
    " \"val1\"\n",
    " \"val2\"\n",
    " \"val3\"\n",
    " )\n",
    " \n",
    "And are called in a loop as \"\\${ARRAY[@]}\" or as single values \\$ARRAY[1].\n",
    "Let's see an example:"
   ]
  },
  {
   "cell_type": "code",
   "execution_count": 129,
   "metadata": {
    "collapsed": false
   },
   "outputs": [
    {
     "name": "stdout",
     "output_type": "stream",
     "text": [
      "2nd value is val2\n",
      "/dir/val1\n",
      "/dir/val2\n",
      "/dir/val3\n"
     ]
    }
   ],
   "source": [
    "%%bash\n",
    "echo '#!/usr/bin/env bash' > script3.sh\n",
    "echo '\n",
    "dir0=\"/dir/\"\n",
    "ARRAY=(\n",
    "\"val1\"\n",
    "\"val2\"\n",
    "\"val3\"\n",
    ")\n",
    "echo \"2nd value is \"${ARRAY[1]}\n",
    "for name in \"${ARRAY[@]}\"\n",
    "do\n",
    "    echo $dir0$name\n",
    "done\n",
    "' >> script3.sh\n",
    "\n",
    "chmod +x script3.sh\n",
    "script3.sh"
   ]
  },
  {
   "cell_type": "markdown",
   "metadata": {},
   "source": [
    "# Finding things\n",
    "\n",
    "Let start with some humour."
   ]
  },
  {
   "cell_type": "code",
   "execution_count": 95,
   "metadata": {
    "collapsed": false
   },
   "outputs": [],
   "source": [
    "%%bash\n",
    "echo '\n",
    " Yesterday it worked\n",
    " Today it is not working\n",
    " Windows is like that\n",
    "  - - - - - - - - - - - -\n",
    " Stay the patient course\n",
    " Of little worth is your ire\n",
    " The network is down\n",
    "  - - - - - - - - - - - -\n",
    " Three things are certain:\n",
    " Death, taxes, and lost data.\n",
    " Guess which has occurred.\n",
    "  - - - - - - - - - - - -\n",
    " Chaos reigns within.\n",
    " Reflect, repent, and reboot.\n",
    " Order shall return.\n",
    "  - - - - - - - - - - - -\n",
    " ABORTED effort:\n",
    " Close all that you have.\n",
    " You ask way too much.\n",
    "  - - - - - - - - - - - -\n",
    " The Tao that is seen\n",
    " Is not the true Tao, until\n",
    " You bring fresh toner.\n",
    "  - - - - - - - - - - - -\n",
    " A crash reduces\n",
    " your expensive computer\n",
    " to a simple stone.\n",
    "  - - - - - - - - - - - -\n",
    " Error messages\n",
    " cannot completely convey.\n",
    " We now know shared loss.\n",
    "' > haiku"
   ]
  },
  {
   "cell_type": "markdown",
   "metadata": {},
   "source": [
    "We want to find lines with particular words.\n",
    "Our friend is **grep**.\n",
    "\n",
    "grep allows one to search a pattern inside a file.\n",
    "It can be a simple string:"
   ]
  },
  {
   "cell_type": "code",
   "execution_count": 96,
   "metadata": {
    "collapsed": false
   },
   "outputs": [
    {
     "name": "stdout",
     "output_type": "stream",
     "text": [
      " Yesterday it worked\n",
      " Today it is not working\n"
     ]
    }
   ],
   "source": [
    "%%bash\n",
    "grep day haiku"
   ]
  },
  {
   "cell_type": "markdown",
   "metadata": {},
   "source": [
    "Or, we can search only for the word \"day\" and not the occurences of the string:"
   ]
  },
  {
   "cell_type": "code",
   "execution_count": 97,
   "metadata": {
    "collapsed": true
   },
   "outputs": [],
   "source": [
    "%%bash\n",
    "grep -w day haiku"
   ]
  },
  {
   "cell_type": "markdown",
   "metadata": {},
   "source": [
    "No output, but we can search a sentence:"
   ]
  },
  {
   "cell_type": "code",
   "execution_count": 98,
   "metadata": {
    "collapsed": false
   },
   "outputs": [
    {
     "name": "stdout",
     "output_type": "stream",
     "text": [
      " Today it is not working\n"
     ]
    }
   ],
   "source": [
    "%%bash\n",
    "grep -w \"is not\" haiku"
   ]
  },
  {
   "cell_type": "markdown",
   "metadata": {},
   "source": [
    "Another useful option is \"-n\" which gives the line number of the occurence of a string:"
   ]
  },
  {
   "cell_type": "code",
   "execution_count": 99,
   "metadata": {
    "collapsed": false
   },
   "outputs": [
    {
     "name": "stdout",
     "output_type": "stream",
     "text": [
      "2: Yesterday it worked\n",
      "3: Today it is not working\n",
      "7: Of little worth is your ire\n",
      "14: Chaos reigns within.\n"
     ]
    }
   ],
   "source": [
    "%%bash\n",
    "grep -n \"it\" haiku"
   ]
  },
  {
   "cell_type": "markdown",
   "metadata": {},
   "source": [
    "And, of course, we can combine the two things:"
   ]
  },
  {
   "cell_type": "code",
   "execution_count": 100,
   "metadata": {
    "collapsed": false
   },
   "outputs": [
    {
     "name": "stdout",
     "output_type": "stream",
     "text": [
      "2: Yesterday it worked\n",
      "3: Today it is not working\n"
     ]
    }
   ],
   "source": [
    "%%bash\n",
    "grep -n -w \"it\" haiku"
   ]
  },
  {
   "cell_type": "markdown",
   "metadata": {},
   "source": [
    "Sometimes, we want to make the search case insesitive:"
   ]
  },
  {
   "cell_type": "code",
   "execution_count": 102,
   "metadata": {
    "collapsed": false
   },
   "outputs": [
    {
     "name": "stdout",
     "output_type": "stream",
     "text": [
      "6: Stay the patient course\n",
      "8: The network is down\n",
      "22: The Tao that is seen\n",
      "23: Is not the true Tao, until\n"
     ]
    }
   ],
   "source": [
    "%%bash\n",
    "grep -i -n -w \"the\" haiku"
   ]
  },
  {
   "cell_type": "markdown",
   "metadata": {},
   "source": [
    "Or make the inverse search, all the lines without \"the\":"
   ]
  },
  {
   "cell_type": "code",
   "execution_count": 103,
   "metadata": {
    "collapsed": false
   },
   "outputs": [
    {
     "name": "stdout",
     "output_type": "stream",
     "text": [
      "1:\n",
      "2: Yesterday it worked\n",
      "3: Today it is not working\n",
      "4: Windows is like that\n",
      "5:  - - - - - - - - - - - -\n",
      "7: Of little worth is your ire\n",
      "9:  - - - - - - - - - - - -\n",
      "10: Three things are certain:\n",
      "11: Death, taxes, and lost data.\n",
      "12: Guess which has occurred.\n",
      "13:  - - - - - - - - - - - -\n",
      "14: Chaos reigns within.\n",
      "15: Reflect, repent, and reboot.\n",
      "16: Order shall return.\n",
      "17:  - - - - - - - - - - - -\n",
      "18: ABORTED effort:\n",
      "19: Close all that you have.\n",
      "20: You ask way too much.\n",
      "21:  - - - - - - - - - - - -\n",
      "24: You bring fresh toner.\n",
      "25:  - - - - - - - - - - - -\n",
      "26: A crash reduces\n",
      "27: your expensive computer\n",
      "28: to a simple stone.\n",
      "29:  - - - - - - - - - - - -\n",
      "30: Error messages\n",
      "31: cannot completely convey.\n",
      "32: We now know shared loss.\n",
      "33:\n"
     ]
    }
   ],
   "source": [
    "%%bash\n",
    "grep -n -w -v -i \"the\" haiku"
   ]
  },
  {
   "cell_type": "markdown",
   "metadata": {},
   "source": [
    "We can have many more options, but the real power of grep comes from the usage of regular expressions.\n",
    "Regular expressions can be very complicated. We will talk more about them during the other lectures. Otherwise, I advise to read the wikipedia page about them:\n",
    "https://en.wikipedia.org/wiki/Regular_expression\n",
    "\n",
    "To give an idea, the following example searches for lines starting with words whose third letter is \"o\":"
   ]
  },
  {
   "cell_type": "code",
   "execution_count": 107,
   "metadata": {
    "collapsed": false
   },
   "outputs": [
    {
     "name": "stdout",
     "output_type": "stream",
     "text": [
      " Today it is not working\n",
      " You ask way too much.\n",
      " You bring fresh toner.\n",
      " your expensive computer\n",
      " to a simple stone.\n"
     ]
    }
   ],
   "source": [
    "%%bash\n",
    "grep -e '^..o' haiku"
   ]
  },
  {
   "cell_type": "markdown",
   "metadata": {},
   "source": [
    "Another case, search for lines with two commas followed by space:"
   ]
  },
  {
   "cell_type": "code",
   "execution_count": 110,
   "metadata": {
    "collapsed": false
   },
   "outputs": [
    {
     "name": "stdout",
     "output_type": "stream",
     "text": [
      " Death, taxes, and lost data.\n",
      " Reflect, repent, and reboot.\n"
     ]
    }
   ],
   "source": [
    "%%bash\n",
    "grep -e ',\\s.*,\\s' haiku"
   ]
  },
  {
   "cell_type": "markdown",
   "metadata": {},
   "source": [
    "While **grep** finds lines in a file, the **find** command finds files.\n",
    "This is another commands with plenty of options. \n",
    "\n",
    "The main thing to remember is that find needs a starting directory, then it will explore all the subdirectories to find files with specified features.\n",
    "A simple example:"
   ]
  },
  {
   "cell_type": "code",
   "execution_count": 111,
   "metadata": {
    "collapsed": false
   },
   "outputs": [
    {
     "name": "stdout",
     "output_type": "stream",
     "text": [
      "./Astropy/FITS-tables.ipynb\n",
      "./Astropy/redshift_plot.ipynb\n",
      "./Astropy/FITS-images.ipynb\n",
      "./Astropy/plot-catalog.ipynb\n",
      "./Astropy/FITS-header.ipynb\n",
      "./Astropy/Coordinates.ipynb\n",
      "./Astropy/Quantities.ipynb\n",
      "./Notebook.ipynb\n",
      "./pandas.ipynb\n",
      "./.ipynb_checkpoints/Notebook-checkpoint.ipynb\n",
      "./.ipynb_checkpoints/Lecture-1-checkpoint.ipynb\n",
      "./.ipynb_checkpoints/PythonBasics-checkpoint.ipynb\n",
      "./git.ipynb\n",
      "./Lecture-1.ipynb\n",
      "./PythonBasics.ipynb\n"
     ]
    }
   ],
   "source": [
    "%%bash\n",
    "find . -name \"*.ipynb\""
   ]
  },
  {
   "cell_type": "markdown",
   "metadata": {},
   "source": [
    "Another case is searching for directories:"
   ]
  },
  {
   "cell_type": "code",
   "execution_count": 113,
   "metadata": {
    "collapsed": false
   },
   "outputs": [
    {
     "name": "stdout",
     "output_type": "stream",
     "text": [
      ".\n",
      "./Astropy\n",
      "./.ipynb_checkpoints\n"
     ]
    }
   ],
   "source": [
    "%%bash\n",
    "find . -type d"
   ]
  },
  {
   "cell_type": "markdown",
   "metadata": {},
   "source": [
    "We can easily combine find with other commands. For instance with wc:"
   ]
  },
  {
   "cell_type": "code",
   "execution_count": 114,
   "metadata": {
    "collapsed": false
   },
   "outputs": [
    {
     "name": "stdout",
     "output_type": "stream",
     "text": [
      "    532 ./Astropy/FITS-tables.ipynb\n",
      "    562 ./Astropy/redshift_plot.ipynb\n",
      "    577 ./Astropy/FITS-images.ipynb\n",
      "    582 ./Astropy/plot-catalog.ipynb\n",
      "    572 ./Astropy/FITS-header.ipynb\n",
      "    555 ./Astropy/Coordinates.ipynb\n",
      "    582 ./Astropy/Quantities.ipynb\n",
      "   1658 ./Notebook.ipynb\n",
      "   4373 ./pandas.ipynb\n",
      "   1658 ./.ipynb_checkpoints/Notebook-checkpoint.ipynb\n",
      "   2045 ./.ipynb_checkpoints/Lecture-1-checkpoint.ipynb\n",
      "    314 ./.ipynb_checkpoints/PythonBasics-checkpoint.ipynb\n",
      "   1907 ./git.ipynb\n",
      "   2078 ./Lecture-1.ipynb\n",
      "    314 ./PythonBasics.ipynb\n",
      "  18309 total\n"
     ]
    }
   ],
   "source": [
    "%%bash\n",
    "wc -l $(find . -name '*.ipynb')"
   ]
  },
  {
   "cell_type": "markdown",
   "metadata": {},
   "source": [
    "Or with grep:"
   ]
  },
  {
   "cell_type": "code",
   "execution_count": 117,
   "metadata": {
    "collapsed": false
   },
   "outputs": [
    {
     "name": "stdout",
     "output_type": "stream",
     "text": [
      "./.ipynb_checkpoints/Lecture-1-checkpoint.ipynb:    \"The installation is extraordinary simple.\\n\",\n",
      "./Lecture-1.ipynb:    \"The installation is extraordinary simple.\\n\",\n"
     ]
    }
   ],
   "source": [
    "%%bash\n",
    "grep \"extraordinary simple\" $(find . -name '*.ipynb')"
   ]
  },
  {
   "cell_type": "markdown",
   "metadata": {},
   "source": [
    "Finally, find can be used with the option **-exec** which is quite powerful since it can run a specified command on the selected files.\n",
    "For instance, if we look for directories containing files with a specific extension we can use the following syntax:"
   ]
  },
  {
   "cell_type": "code",
   "execution_count": 122,
   "metadata": {
    "collapsed": false
   },
   "outputs": [
    {
     "name": "stdout",
     "output_type": "stream",
     "text": [
      "./Astropy\n",
      ".\n",
      "./.ipynb_checkpoints\n",
      ".\n"
     ]
    }
   ],
   "source": [
    "%%bash\n",
    "find . -name '*.ipynb' -exec dirname {} \\; | uniq"
   ]
  },
  {
   "cell_type": "markdown",
   "metadata": {},
   "source": [
    "# Substitute strings\n",
    "\n",
    "Another common task is making substitutions in files.\n",
    "**sed** is a possibility. Other ways are using **awk** and eventually **perl**.\n"
   ]
  },
  {
   "cell_type": "code",
   "execution_count": 119,
   "metadata": {
    "collapsed": false
   },
   "outputs": [
    {
     "name": "stdout",
     "output_type": "stream",
     "text": [
      "The cat walks of the roof\n"
     ]
    }
   ],
   "source": [
    "%%bash\n",
    "echo 'The cat runs of the roof' | sed 's/run/walk/'"
   ]
  },
  {
   "cell_type": "markdown",
   "metadata": {},
   "source": [
    "If you have perl installed on your laptop, it is possible to substitute string inside files in place, i.e. without creating new files. This is very handy, believe me !"
   ]
  },
  {
   "cell_type": "code",
   "execution_count": 124,
   "metadata": {
    "collapsed": false
   },
   "outputs": [
    {
     "name": "stdout",
     "output_type": "stream",
     "text": [
      "This file is rotten\n",
      "This file is fresh\n"
     ]
    }
   ],
   "source": [
    "%%bash\n",
    "echo 'This file is rotten' > file.txt\n",
    "cat file.txt\n",
    "perl -pi -e 's/rotten/fresh/' file.txt\n",
    "cat file.txt"
   ]
  },
  {
   "cell_type": "markdown",
   "metadata": {},
   "source": [
    "# Suggested activities\n",
    "\n",
    "Practicing is the only way to understand. So, after such a long introduction to the Unix bash shell, it is time to solve a few problems.\n",
    "\n",
    "- Write a command to find all the files of type \\*.dat whose name contains the string \"ose\" but not \"temp\"\n",
    "\n",
    "- Find the list of unique names of animals in this file (hint: use cut, sort, uniq):\n",
    "\n",
    "2013-11-05,deer,5  \n",
    "2013-11-05,rabbit,22  \n",
    "2013-11-05,raccoon,7  \n",
    "2013-11-06,rabbit,19  \n",
    "2013-11-06,deer,2  \n",
    "2013-11-06,fox,1  \n",
    "2013-11-07,rabbit,18  \n",
    "2013-11-07,bear,1  \n",
    "\n",
    "\n",
    "\n",
    "  "
   ]
  },
  {
   "cell_type": "code",
   "execution_count": 134,
   "metadata": {
    "collapsed": false
   },
   "outputs": [
    {
     "name": "stdout",
     "output_type": "stream",
     "text": [
      "\n",
      "bear\n",
      "deer\n",
      "fox\n",
      "rabbit\n",
      "raccoon\n"
     ]
    }
   ],
   "source": [
    "%%bash\n",
    "echo '\n",
    "2013-11-05,deer,5  \n",
    "2013-11-05,rabbit,22  \n",
    "2013-11-05,raccoon,7  \n",
    "2013-11-06,rabbit,19  \n",
    "2013-11-06,deer,2  \n",
    "2013-11-06,fox,1  \n",
    "2013-11-07,rabbit,18  \n",
    "2013-11-07,bear,1  \n",
    "' > test.txt\n",
    "\n",
    "cat test.txt | cut -d , -f 2 | sort | uniq"
   ]
  },
  {
   "cell_type": "code",
   "execution_count": null,
   "metadata": {
    "collapsed": true
   },
   "outputs": [],
   "source": []
  }
 ],
 "metadata": {
  "anaconda-cloud": {},
  "kernelspec": {
   "display_name": "Python [conda root]",
   "language": "python",
   "name": "conda-root-py"
  },
  "language_info": {
   "codemirror_mode": {
    "name": "ipython",
    "version": 2
   },
   "file_extension": ".py",
   "mimetype": "text/x-python",
   "name": "python",
   "nbconvert_exporter": "python",
   "pygments_lexer": "ipython2",
   "version": "2.7.12"
  }
 },
 "nbformat": 4,
 "nbformat_minor": 0
}
